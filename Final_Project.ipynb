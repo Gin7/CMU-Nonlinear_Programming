{
 "cells": [
  {
   "cell_type": "markdown",
   "metadata": {},
   "source": [
    "## CMU Final Project\n",
    "\n",
    "### Jingchen Liang"
   ]
  },
  {
   "cell_type": "code",
   "execution_count": 1,
   "metadata": {},
   "outputs": [],
   "source": [
    "import numpy as np\n",
    "import pandas as pd\n",
    "import matplotlib.pyplot as plt\n",
    "%matplotlib inline\n",
    "import time\n",
    "#import math"
   ]
  },
  {
   "cell_type": "markdown",
   "metadata": {},
   "source": [
    "### Gradient Descent - Finding the Minimum (Unconstrained)"
   ]
  },
  {
   "cell_type": "markdown",
   "metadata": {},
   "source": [
    "__Example 1. x^2 + 4*x + 4__"
   ]
  },
  {
   "cell_type": "markdown",
   "metadata": {},
   "source": [
    "__Example 2: Beale Function has minimum at (3, 0.5)__"
   ]
  },
  {
   "cell_type": "code",
   "execution_count": 44,
   "metadata": {},
   "outputs": [],
   "source": [
    "f1 = lambda x : x[0]**2 + 4*x[0] + 4\n",
    "beale = lambda x : (1.5-x[0]+x[0]*x[1])**2 + (2.25-x[0]+x[0]*(x[1]**2))**2 + (2.625-x[0]+x[0]*(x[1]**3))**2"
   ]
  },
  {
   "cell_type": "code",
   "execution_count": 45,
   "metadata": {},
   "outputs": [],
   "source": [
    "# find the gradient\n",
    "def grad(fun, x, eps=1e-7):\n",
    "    dim = x.shape[0]\n",
    "    gradient = np.zeros(dim)\n",
    "    delta = np.eye(dim)\n",
    "    for i in range(dim):\n",
    "        gradient[i] = (fun(x+eps * delta[i]) - fun(x))/eps\n",
    "    return gradient"
   ]
  },
  {
   "cell_type": "code",
   "execution_count": 46,
   "metadata": {},
   "outputs": [],
   "source": [
    "# gradient descent algorithm\n",
    "def gradient_descent(fun,x0,epsilon,k,alpha):\n",
    "    x_n = x0\n",
    "    x_new = np.array([])\n",
    "    prediction = -10\n",
    "\n",
    "    while abs(fun(x_n) - prediction) > epsilon:\n",
    "        prediction = fun(x_n)\n",
    "        x_new = np.append(x_new, x_n)\n",
    "        x_n = x_n - alpha*grad(fun,x_n)\n",
    "        k = k+1\n",
    "    \n",
    "    return x_n, k, x_new"
   ]
  },
  {
   "cell_type": "markdown",
   "metadata": {},
   "source": [
    "__Exmaple 1__ For the f1 function, we set the starting point is 10"
   ]
  },
  {
   "cell_type": "code",
   "execution_count": 47,
   "metadata": {},
   "outputs": [
    {
     "name": "stdout",
     "output_type": "stream",
     "text": [
      "Function Value:  4.989250300013737e-05 at x =  [-1.99293654] in 7434 iterations\n",
      "Execution time: 0.15836501121520996 seconds\n"
     ]
    }
   ],
   "source": [
    "start_time = time.time()\n",
    "\n",
    "x0 = np.array([10])\n",
    "results = gradient_descent(f1,x0,1e-7,0,0.0005)\n",
    "\n",
    "print(\"Function Value: \", f1(results[0]), \"at x = \", results[0], \"in\", results[1], \"iterations\")\n",
    "\n",
    "print(\"Execution time: %s seconds\" % (time.time() - start_time))"
   ]
  },
  {
   "cell_type": "markdown",
   "metadata": {},
   "source": [
    "The optimal point is near -2, and about 7400 iterations were performed in 1.4 seconds. If we define the learning rate alpha = 0.00005, we have:"
   ]
  },
  {
   "cell_type": "code",
   "execution_count": 48,
   "metadata": {},
   "outputs": [
    {
     "name": "stdout",
     "output_type": "stream",
     "text": [
      "Function Value:  0.0004998413896064591 at x =  [-1.97764287] in 62852 iterations\n",
      "Execution time: 1.7342917919158936 seconds\n"
     ]
    }
   ],
   "source": [
    "start_time = time.time()\n",
    "\n",
    "x0 = np.array([10])\n",
    "results = gradient_descent(f1,x0,1e-7,0,0.00005)\n",
    "\n",
    "print(\"Function Value: \", f1(results[0]), \"at x = \", results[0], \"in\", results[1], \"iterations\")\n",
    "\n",
    "print(\"Execution time: %s seconds\" % (time.time() - start_time))"
   ]
  },
  {
   "cell_type": "markdown",
   "metadata": {},
   "source": [
    "__Example 2__ For the beale function, we set the starting point is [4,0]"
   ]
  },
  {
   "cell_type": "code",
   "execution_count": 6,
   "metadata": {},
   "outputs": [
    {
     "name": "stdout",
     "output_type": "stream",
     "text": [
      "Function Value:  0.00036792353469975976 at x =  [3.0492535  0.51203347] in 28252 iterations\n",
      "Execution time: 1.248945951461792 seconds\n"
     ]
    }
   ],
   "source": [
    "start_time = time.time()\n",
    "\n",
    "x0 = np.array([4,0])\n",
    "results = gradient_descent(beale,x0,1e-7,0,0.0005)\n",
    "\n",
    "print(\"Function Value: \", beale(results[0]), \"at x = \", results[0], \"in\", results[1], \"iterations\")\n",
    "\n",
    "print(\"Execution time: %s seconds\" % (time.time() - start_time))"
   ]
  },
  {
   "cell_type": "markdown",
   "metadata": {},
   "source": [
    "The optimal point is near [3, 0.5], and about 28000 iterations were performed in 1.4 seconds. If we define the learning rate alpha = 0.00005, we have:"
   ]
  },
  {
   "cell_type": "code",
   "execution_count": 7,
   "metadata": {},
   "outputs": [
    {
     "name": "stdout",
     "output_type": "stream",
     "text": [
      "Function Value:  0.004971965227686887 at x =  [3.1956725  0.54491271] in 174899 iterations\n",
      "Execution time: 24.51436185836792 seconds\n"
     ]
    }
   ],
   "source": [
    "start_time = time.time()\n",
    "\n",
    "x0 = np.array([4,0])\n",
    "results = gradient_descent(beale,x0,1e-7,0,0.00005)\n",
    "\n",
    "print(\"Function Value: \", beale(results[0]), \"at x = \", results[0], \"in\", results[1], \"iterations\")\n",
    "\n",
    "print(\"Execution time: %s seconds\" % (time.time() - start_time))"
   ]
  },
  {
   "cell_type": "markdown",
   "metadata": {},
   "source": [
    "Althoguh more iterations were performed, the accuracy is lower than the previous one. We need to add a backtracking line search to define alpha."
   ]
  },
  {
   "cell_type": "code",
   "execution_count": 50,
   "metadata": {},
   "outputs": [],
   "source": [
    "def Back_Armijo(fun,x):                 \n",
    "    alpha = 1                    \n",
    "    beta = 0.8\n",
    "    while fun(x - alpha*grad(fun,x)) >= (fun(x) - beta*alpha*(grad(fun,x).T@grad(fun,x))):\n",
    "        alpha *= beta\n",
    "    return alpha"
   ]
  },
  {
   "cell_type": "code",
   "execution_count": 51,
   "metadata": {},
   "outputs": [],
   "source": [
    "# the new gradient descent algorithm\n",
    "def gradient_descent(fun,x0,epsilon):\n",
    "    x_n = x0\n",
    "    x_new = np.array([])\n",
    "    prediction = -10\n",
    "    k = 0\n",
    "\n",
    "    while abs(fun(x_n) - prediction) > epsilon:\n",
    "        prediction = fun(x_n)\n",
    "        x_new = np.append(x_new, x_n)\n",
    "        alpha = Back_Armijo(fun,x_n)\n",
    "        x_n = x_n - alpha*grad(fun,x_n)\n",
    "        k = k+1\n",
    "    \n",
    "    return x_n, k, x_new"
   ]
  },
  {
   "cell_type": "code",
   "execution_count": 52,
   "metadata": {},
   "outputs": [
    {
     "name": "stdout",
     "output_type": "stream",
     "text": [
      "Function Value:  4.5759936032060675e-06 at x =  [3.00535374 0.50129886] in 219 iterations\n",
      "Execution time: 0.28815317153930664 seconds\n"
     ]
    }
   ],
   "source": [
    "start_time = time.time()\n",
    "\n",
    "x0 = np.array([4,0])\n",
    "results = gradient_descent(beale,x0,1e-7)\n",
    "\n",
    "print(\"Function Value: \", beale(results[0]), \"at x = \", results[0], \"in\", results[1], \"iterations\")\n",
    "\n",
    "print(\"Execution time: %s seconds\" % (time.time() - start_time))"
   ]
  },
  {
   "cell_type": "markdown",
   "metadata": {},
   "source": [
    "Now, less than 300 steps were performed, which is faster！"
   ]
  },
  {
   "cell_type": "markdown",
   "metadata": {},
   "source": [
    "We also redo f1, and only 27 steps are necessary to operate."
   ]
  },
  {
   "cell_type": "code",
   "execution_count": 54,
   "metadata": {},
   "outputs": [
    {
     "name": "stdout",
     "output_type": "stream",
     "text": [
      "Function Value:  3.7265332597513634e-08 at x =  [-1.99980696] in 27 iterations\n",
      "Execution time: 0.011459827423095703 seconds\n"
     ]
    }
   ],
   "source": [
    "start_time = time.time()\n",
    "\n",
    "x0 = np.array([10])\n",
    "results = gradient_descent(f1,x0,1e-7)\n",
    "\n",
    "print(\"Function Value: \", f1(results[0]), \"at x = \", results[0], \"in\", results[1], \"iterations\")\n",
    "\n",
    "print(\"Execution time: %s seconds\" % (time.time() - start_time))"
   ]
  },
  {
   "cell_type": "markdown",
   "metadata": {},
   "source": [
    "### Linear Regression"
   ]
  },
  {
   "cell_type": "markdown",
   "metadata": {},
   "source": [
    "#### Method 1 Direct solution - pseudo inverse\n",
    "\n",
    "Pseudo inverse of the features matrix x multiplied with y gives the solution to this mean squared minimization or regression problem directly. This can be expressed as :\n",
    "$$\n",
    "   Y= XA \n",
    "$$\n",
    "\n",
    "$$\n",
    "A = (X^T X)^{-1}X^T Y\n",
    "$$\n",
    "\n",
    "where $X$ is the features set with a column of 1's appended for the bias value computation \n",
    "\n",
    "We can compare the gradient descent parameter values with direct solutions"
   ]
  },
  {
   "cell_type": "code",
   "execution_count": 11,
   "metadata": {},
   "outputs": [],
   "source": [
    "def generalized_inverse(x,y):\n",
    "    return np.linalg.inv(x.T @ x) @ x.T @ y"
   ]
  },
  {
   "cell_type": "markdown",
   "metadata": {},
   "source": [
    "#### Method 2 Direct solution - gradient descent\n",
    "\n",
    "We can also use similar gradient descent algorithm that we just created. Here, we neeed to input x, y, and we focus on finding the parameter θ values.\n",
    "\n",
    "$$\n",
    "y = θ^Tx + ε\n",
    "$$\n",
    "or in other words minimize the loss function\n",
    "$$\n",
    "H(θ) = \\frac{1}{2n}\\sum_{i=1}^n(θ^Tx_i - y_i)^2 \n",
    "$$"
   ]
  },
  {
   "cell_type": "code",
   "execution_count": 24,
   "metadata": {},
   "outputs": [],
   "source": [
    "# define the cost function for the linear regression\n",
    "linear_cost = lambda x,y,theta : np.sum((x @ theta - y)**2)/ (2 * len(x))"
   ]
  },
  {
   "cell_type": "code",
   "execution_count": 296,
   "metadata": {},
   "outputs": [],
   "source": [
    "def linear_grad(fun, x, y, theta, eps=1e-7):\n",
    "    dim = theta.shape[0]\n",
    "    gradient = np.zeros(dim)\n",
    "    delta = np.eye(dim)\n",
    "    for i in range(dim):\n",
    "        gradient[i] = (fun(x,y,(theta+eps*delta[i])) - fun(x, y, theta))/eps\n",
    "    return gradient\n",
    "\n",
    "# Another way to calculate the gradient is to take partial derivative of linear_cost. We use the similar process in part 1"
   ]
  },
  {
   "cell_type": "code",
   "execution_count": 26,
   "metadata": {},
   "outputs": [],
   "source": [
    "def linear_Back_Armijo(fun,x, y, theta):                 \n",
    "    alpha = 1                    \n",
    "    beta = 0.8\n",
    "    while fun(x,y,theta - alpha*linear_grad(fun,x,y,theta)) >= (fun(x,y,theta) - beta*alpha*((linear_grad(fun,x,y,theta).T @ linear_grad(fun,x,y,theta)))):\n",
    "        alpha *= beta\n",
    "    return alpha"
   ]
  },
  {
   "cell_type": "code",
   "execution_count": 27,
   "metadata": {},
   "outputs": [],
   "source": [
    "def linear_gradient_descent(fun,x,y,theta0,epsilon):\n",
    "    theta_n = theta0\n",
    "    theta_new = np.array([])\n",
    "    prediction = -10\n",
    "    k = 0\n",
    "\n",
    "    while abs(fun(x,y,theta_n) - prediction) > epsilon:\n",
    "        prediction = fun(x,y,theta_n)\n",
    "        theta_new = np.append(theta_new, theta_n)\n",
    "        alpha = linear_Back_Armijo(fun,x, y, theta_n)\n",
    "        theta_n = theta_n - alpha*linear_grad(fun,x,y,theta_n)\n",
    "        k = k+1\n",
    "    \n",
    "    return theta_n, k, theta_new"
   ]
  },
  {
   "cell_type": "markdown",
   "metadata": {},
   "source": [
    "__Question 1: How does the gradient descent accuracy compare with the standard method?__\n",
    "\n",
    "We will try 4 different functions to check our algorithm, and we comapre the parameter results with values from generalized_inverse function.\n",
    "\n",
    "Ex1: linear and univariate \n",
    "\n",
    "Ex2: linear and multivariate \n",
    "\n",
    "Ex3: nonlinear and univariate \n",
    "\n",
    "Ex4: nonlinear and multivariate \n",
    "\n",
    "For each example, we create the data (x and y values), we we estimate the theta values. In addition, we add a random noise from different PDFs.\n",
    "\n",
    "Each time we may have different $ x_i $ and $ y_i $. We may use np.random.seed() to make the results reproducible."
   ]
  },
  {
   "cell_type": "markdown",
   "metadata": {},
   "source": [
    "__Example 1:__ Linear and univariate - simple linear regression\n",
    "\n",
    "$$\n",
    "y_i = θ_0x_0 + θ_1x_1 =  θ_0 + θ_1x_1 + UniformNoise \\;\\;\\;\\;\\;\\;  given \\;\\;\\ x_0 = 1\n",
    "$$"
   ]
  },
  {
   "cell_type": "code",
   "execution_count": 28,
   "metadata": {},
   "outputs": [],
   "source": [
    "def CreateData1(numObs, low, high, mean, sd, df):\n",
    "    \"\"\"\n",
    "    numObs: number of observations that we want to create\n",
    "    low, high: low and high boundaries of uniform distribution \n",
    "    mean, variance: mean and variance of the normal distribution \n",
    "    \"\"\"\n",
    "    x = np.zeros((numObs, 2))\n",
    "    y_uni = np.zeros(numObs)\n",
    "    y_nor = np.zeros(numObs)\n",
    "    y_t = np.zeros(numObs)\n",
    "    \n",
    "    for i in range(numObs):\n",
    "        x[i][0] = 1   # since x0 is 1 defined by hypothesis\n",
    "        x[i][1] = i\n",
    "        y_uni[i] = i + np.random.uniform(low, high)\n",
    "        y_nor[i] = i + np.random.normal(mean, sd)\n",
    "        y_t[i] = i + np.random.standard_t(df)\n",
    "    return x, y_uni, y_nor, y_t"
   ]
  },
  {
   "cell_type": "markdown",
   "metadata": {},
   "source": [
    "This function creates many y columns according to different PDFs. Here, we use uniform distribution noise."
   ]
  },
  {
   "cell_type": "code",
   "execution_count": 31,
   "metadata": {},
   "outputs": [],
   "source": [
    "np.random.seed(90)\n",
    "x1, y1_uni, y1_nor, y1_t = CreateData1(500,-30,30,0,10,2)"
   ]
  },
  {
   "cell_type": "code",
   "execution_count": 32,
   "metadata": {},
   "outputs": [
    {
     "data": {
      "text/plain": [
       "array([-1.97677002,  1.00298679])"
      ]
     },
     "execution_count": 32,
     "metadata": {},
     "output_type": "execute_result"
    }
   ],
   "source": [
    "# we can first see the generalized inverse solution\n",
    "generalized_inverse(x1, y1_uni)"
   ]
  },
  {
   "cell_type": "code",
   "execution_count": 483,
   "metadata": {},
   "outputs": [
    {
     "data": {
      "text/plain": [
       "135.9519177669585"
      ]
     },
     "execution_count": 483,
     "metadata": {},
     "output_type": "execute_result"
    }
   ],
   "source": [
    "# calculate the min H(θ) for generalized inverse solution\n",
    "linear_cost(x1, y1_uni,generalized_inverse(x1, y1_uni))"
   ]
  },
  {
   "cell_type": "code",
   "execution_count": 33,
   "metadata": {},
   "outputs": [
    {
     "name": "stdout",
     "output_type": "stream",
     "text": [
      "Linear cost function minimum:  135.96871480640007 , when θ =  [-1.61074562  1.00188825] in 52883 iterations\n",
      "Execution time: 489.30465388298035 seconds\n"
     ]
    }
   ],
   "source": [
    "start_time = time.time()\n",
    "\n",
    "theta0 = np.array([3,3]) # starting point\n",
    "\n",
    "Ex1_results = linear_gradient_descent(linear_cost,x1,y1_uni,theta0,1e-7)\n",
    "\n",
    "print(\"Linear cost function minimum: \", linear_cost(x1,y1_uni,Ex1_results[0]), \", when θ = \", Ex1_results[0], \"in\", Ex1_results[1], \"iterations\")\n",
    "print(\"Execution time: %s seconds\" % (time.time() - start_time))"
   ]
  },
  {
   "cell_type": "code",
   "execution_count": 34,
   "metadata": {},
   "outputs": [],
   "source": [
    "# about 490 seconds"
   ]
  },
  {
   "cell_type": "code",
   "execution_count": 35,
   "metadata": {
    "scrolled": true
   },
   "outputs": [
    {
     "data": {
      "image/png": "[encoded data removed]",
      "text/plain": [
       "<Figure size 864x720 with 1 Axes>"
      ]
     },
     "metadata": {
      "needs_background": "light"
     },
     "output_type": "display_data"
    }
   ],
   "source": [
    "# We can also plot the regression line\n",
    "reg_line = Ex1_results[0][0]*x1[:,0] + Ex1_results[0][1]*x1[:,1]\n",
    "plt.plot(x1[:,1],y1_uni,'o')\n",
    "plt.plot(reg_line, linewidth = 4, color = 'red')\n",
    "fig = plt.gcf()\n",
    "fig.set_size_inches(12, 10)"
   ]
  },
  {
   "cell_type": "markdown",
   "metadata": {},
   "source": [
    "__Example 2:__ Linear and multivariate\n",
    "\n",
    "We add a new varaible x2:\n",
    "\n",
    "$$\n",
    "y = θ_0x_0 + θ_1x_1 + θ_2x_2=  θ_0 + θ_1x_1 + θ_2x_2 + NormalNoise\n",
    "$$\n"
   ]
  },
  {
   "cell_type": "code",
   "execution_count": 36,
   "metadata": {},
   "outputs": [],
   "source": [
    "# create a dataset\n",
    "def CreateData2(numObs, interval, low, high, mean, sd, df):\n",
    "    x = np.zeros((numObs, 3))\n",
    "    y_uni = np.zeros(numObs)\n",
    "    y_nor = np.zeros(numObs)\n",
    "    y_t = np.zeros(numObs)\n",
    "    \n",
    "    for i in range(numObs):\n",
    "        x[i][0] = 1   \n",
    "        x[i][1] = i\n",
    "        x[i][2] = np.random.choice(interval)        \n",
    "        y_uni[i] = i + np.random.choice(interval) + np.random.uniform(low, high)\n",
    "        y_nor[i] = i + np.random.choice(interval) + np.random.normal(mean,sd)\n",
    "        y_t[i] = i + np.random.choice(interval) + np.random.standard_t(df)\n",
    "    return x, y_uni, y_nor, y_t"
   ]
  },
  {
   "cell_type": "markdown",
   "metadata": {},
   "source": [
    "Here, we use normal distribution noise."
   ]
  },
  {
   "cell_type": "code",
   "execution_count": 39,
   "metadata": {},
   "outputs": [],
   "source": [
    "np.random.seed(90)\n",
    "x2, y2_uni, y2_nor, y2_t = CreateData2(500,10,-30,30,0,10,3)"
   ]
  },
  {
   "cell_type": "code",
   "execution_count": 40,
   "metadata": {},
   "outputs": [
    {
     "data": {
      "text/plain": [
       "array([6.47741651, 0.9938915 , 0.06160634])"
      ]
     },
     "execution_count": 40,
     "metadata": {},
     "output_type": "execute_result"
    }
   ],
   "source": [
    "generalized_inverse(x2, y2_nor)"
   ]
  },
  {
   "cell_type": "code",
   "execution_count": 484,
   "metadata": {},
   "outputs": [
    {
     "data": {
      "text/plain": [
       "50.668833753757426"
      ]
     },
     "execution_count": 484,
     "metadata": {},
     "output_type": "execute_result"
    }
   ],
   "source": [
    "linear_cost(x2,y2_nor,generalized_inverse(x2, y2_nor))"
   ]
  },
  {
   "cell_type": "code",
   "execution_count": 41,
   "metadata": {},
   "outputs": [
    {
     "name": "stdout",
     "output_type": "stream",
     "text": [
      "Linear cost function minimum:  50.69562572030049 , when θ =  [5.89294861 0.99503994 0.11256769] in 64747 iterations\n",
      "Execution time: 843.9593300819397 seconds\n"
     ]
    }
   ],
   "source": [
    "start_time = time.time()\n",
    "\n",
    "theta0 = np.array([2,2,2]) # starting point\n",
    "\n",
    "Ex2_results = linear_gradient_descent(linear_cost,x2,y2_nor,theta0,1e-7)\n",
    "\n",
    "print(\"Linear cost function minimum: \", linear_cost(x2,y2_nor,Ex2_results[0]), \", when θ = \", Ex2_results[0], \"in\", Ex2_results[1], \"iterations\")\n",
    "print(\"Execution time: %s seconds\" % (time.time() - start_time))"
   ]
  },
  {
   "cell_type": "code",
   "execution_count": 46,
   "metadata": {},
   "outputs": [],
   "source": [
    "# about 840 seconds"
   ]
  },
  {
   "cell_type": "markdown",
   "metadata": {},
   "source": [
    "__Example 3:__ Nonlinear and univariate\n",
    "\n",
    "$$\n",
    "y = θ_0 + θ_1x_1 + θ_2x_1^2 + NormalNoise\n",
    "$$\n",
    "\n",
    "We still have one independent variable x1 here, but one is squared. However, this model is still linear in the parameters."
   ]
  },
  {
   "cell_type": "code",
   "execution_count": 58,
   "metadata": {},
   "outputs": [],
   "source": [
    "# create a dataset\n",
    "def CreateData3(numObs, low, high, mean, sd, df):\n",
    "    x = np.zeros((numObs, 3))\n",
    "    y_uni = np.zeros(numObs)\n",
    "    y_nor = np.zeros(numObs)\n",
    "    y_t = np.zeros(numObs)\n",
    "    \n",
    "    for i in range(numObs):\n",
    "        x[i][0] = 1   \n",
    "        x[i][1] = i/40\n",
    "        x[i][2] = np.square(i/40)        \n",
    "        y_uni[i] = i/40 + np.square(i/40) + np.random.uniform(low, high)\n",
    "        y_nor[i] = i/40 + np.square(i/40) + np.random.normal(mean,sd)\n",
    "        y_t[i] = i/40 + np.square(i/40) + np.random.standard_t(df)\n",
    "    return x, y_uni, y_nor, y_t"
   ]
  },
  {
   "cell_type": "markdown",
   "metadata": {},
   "source": [
    "Here, we use normal distribution noise."
   ]
  },
  {
   "cell_type": "code",
   "execution_count": 94,
   "metadata": {},
   "outputs": [],
   "source": [
    "np.random.seed(90)\n",
    "x3, y3_uni, y3_nor, y3_t = CreateData3(500,-30,30,0,10,2)"
   ]
  },
  {
   "cell_type": "code",
   "execution_count": 95,
   "metadata": {},
   "outputs": [
    {
     "data": {
      "text/plain": [
       "array([1.13369471, 0.7829617 , 1.01371879])"
      ]
     },
     "execution_count": 95,
     "metadata": {},
     "output_type": "execute_result"
    }
   ],
   "source": [
    "generalized_inverse(x3, y3_nor)"
   ]
  },
  {
   "cell_type": "code",
   "execution_count": 485,
   "metadata": {},
   "outputs": [
    {
     "data": {
      "text/plain": [
       "56.29866641997017"
      ]
     },
     "execution_count": 485,
     "metadata": {},
     "output_type": "execute_result"
    }
   ],
   "source": [
    "linear_cost(x3,y3_nor,generalized_inverse(x3, y3_nor))"
   ]
  },
  {
   "cell_type": "code",
   "execution_count": 63,
   "metadata": {},
   "outputs": [
    {
     "name": "stdout",
     "output_type": "stream",
     "text": [
      "Linear cost function minimum:  56.30064819042357 , when θ =  [1.32152001 0.72085305 1.01792683] in 1602 iterations\n",
      "Execution time: 14.71224331855774 seconds\n"
     ]
    }
   ],
   "source": [
    "start_time = time.time()\n",
    "\n",
    "theta0 = np.array([7,7,7])\n",
    "\n",
    "Ex3_results = linear_gradient_descent(linear_cost,x3,y3_nor,theta0,1e-7)\n",
    "\n",
    "print(\"Linear cost function minimum: \", linear_cost(x3,y3_nor,Ex3_results[0]), \", when θ = \", Ex3_results[0], \"in\", Ex3_results[1], \"iterations\")\n",
    "print(\"Execution time: %s seconds\" % (time.time() - start_time))"
   ]
  },
  {
   "cell_type": "code",
   "execution_count": null,
   "metadata": {},
   "outputs": [],
   "source": [
    "# about 15 seconds"
   ]
  },
  {
   "cell_type": "markdown",
   "metadata": {},
   "source": [
    "__Example 4:__ Nonlinear and multivariate\n",
    "\n",
    "Two predictors x1 and x2, and we apply expoenntial function in x2\n",
    "\n",
    "$$\n",
    "y = θ_0x_0 + θ_1x_1 + θ_2x_2=  θ_0 + θ_1x_1 + θ_2exp(x2) + NormalNoise\n",
    "$$"
   ]
  },
  {
   "cell_type": "code",
   "execution_count": 64,
   "metadata": {},
   "outputs": [],
   "source": [
    "def CreateData4(numObs, interval, low, high, mean, sd, df):\n",
    "    x = np.zeros((numObs, 3))\n",
    "    y_uni = np.zeros(numObs)\n",
    "    y_nor = np.zeros(numObs)\n",
    "    y_t = np.zeros(numObs)\n",
    "    \n",
    "    for i in range(numObs):\n",
    "        x[i][0] = 1   \n",
    "        x[i][1] = i\n",
    "        x[i][2] = np.exp(np.random.choice(interval))        \n",
    "        y_uni[i] = i + np.exp(np.random.choice(interval)) + np.random.uniform(low, high)\n",
    "        y_nor[i] = i + np.exp(np.random.choice(interval)) + np.random.normal(mean,sd)\n",
    "        y_t[i] = i + np.exp(np.random.choice(interval)) + np.random.standard_t(df)\n",
    "    return x, y_uni, y_nor, y_t"
   ]
  },
  {
   "cell_type": "markdown",
   "metadata": {},
   "source": [
    "Here, we use normal distribution noise."
   ]
  },
  {
   "cell_type": "code",
   "execution_count": 69,
   "metadata": {},
   "outputs": [],
   "source": [
    "np.random.seed(90)\n",
    "x4, y4_uni, y4_nor, y4_t = CreateData4(500,5,-30,30,0,10,2)"
   ]
  },
  {
   "cell_type": "code",
   "execution_count": 70,
   "metadata": {},
   "outputs": [
    {
     "data": {
      "text/plain": [
       "array([19.74141216,  0.99332467, -0.06167027])"
      ]
     },
     "execution_count": 70,
     "metadata": {},
     "output_type": "execute_result"
    }
   ],
   "source": [
    "generalized_inverse(x4, y4_nor)"
   ]
  },
  {
   "cell_type": "code",
   "execution_count": 486,
   "metadata": {},
   "outputs": [
    {
     "data": {
      "text/plain": [
       "237.62770197185577"
      ]
     },
     "execution_count": 486,
     "metadata": {},
     "output_type": "execute_result"
    }
   ],
   "source": [
    "linear_cost(x4,y4_nor,generalized_inverse(x4, y4_nor))"
   ]
  },
  {
   "cell_type": "code",
   "execution_count": 71,
   "metadata": {},
   "outputs": [
    {
     "name": "stdout",
     "output_type": "stream",
     "text": [
      "Linear cost function minimum:  237.6467679081287 , when θ =  [19.31904309  0.99439465 -0.05787925] in 94547 iterations\n",
      "Execution time: 1704.5454320907593 seconds\n"
     ]
    }
   ],
   "source": [
    "start_time = time.time()\n",
    "\n",
    "theta0 = np.array([5,5,5])\n",
    "\n",
    "Ex4_results = linear_gradient_descent(linear_cost,x4,y4_nor,theta0,1e-7)\n",
    "\n",
    "print(\"Linear cost function minimum: \", linear_cost(x4,y4_nor,Ex4_results[0]), \", when θ = \", Ex4_results[0], \"in\", Ex4_results[1], \"iterations\")\n",
    "print(\"Execution time: %s seconds\" % (time.time() - start_time))"
   ]
  },
  {
   "cell_type": "code",
   "execution_count": 45,
   "metadata": {},
   "outputs": [],
   "source": [
    "# about 1704 seconds"
   ]
  },
  {
   "cell_type": "markdown",
   "metadata": {},
   "source": [
    "__Q1 Conclusion:__\n",
    "\n",
    "From the above 4 example, no matter what the regression function that we defined, the optimal parameter theta values are all close to the values obtained from the generalized inverse method, implying that our algorithm is correct with  accuracy."
   ]
  },
  {
   "cell_type": "code",
   "execution_count": null,
   "metadata": {},
   "outputs": [],
   "source": []
  },
  {
   "cell_type": "markdown",
   "metadata": {},
   "source": [
    "__Question 2 How linear regression accuracy is affected by the noise from different probability density functions?__\n",
    "\n",
    "For each above functions, for the random noise, we try different probability distribution functions, and compare the error norm $$ |y_{hat} - y_i| $$\n",
    "\n",
    "We mainly compare the uniform and normal distributions."
   ]
  },
  {
   "cell_type": "code",
   "execution_count": 72,
   "metadata": {},
   "outputs": [],
   "source": [
    "# frist, define the error norm function\n",
    "def norm_error(y_hat,y):\n",
    "    error = y_hat -y\n",
    "    return np.linalg.norm(error,1)"
   ]
  },
  {
   "cell_type": "markdown",
   "metadata": {},
   "source": [
    "__Example 1__\n",
    "\n",
    "Previously, we use the uniform noise. Here, we also calculate the normal noise."
   ]
  },
  {
   "cell_type": "markdown",
   "metadata": {},
   "source": [
    "*__Uniform distribution__*"
   ]
  },
  {
   "cell_type": "code",
   "execution_count": 73,
   "metadata": {},
   "outputs": [
    {
     "data": {
      "text/plain": [
       "array([-1.97677002,  1.00298679])"
      ]
     },
     "execution_count": 73,
     "metadata": {},
     "output_type": "execute_result"
    }
   ],
   "source": [
    "generalized_inverse(x1, y1_uni)"
   ]
  },
  {
   "cell_type": "code",
   "execution_count": 74,
   "metadata": {},
   "outputs": [
    {
     "data": {
      "text/plain": [
       "array([-1.61074562,  1.00188825])"
      ]
     },
     "execution_count": 74,
     "metadata": {},
     "output_type": "execute_result"
    }
   ],
   "source": [
    "Ex1_results[0]"
   ]
  },
  {
   "cell_type": "code",
   "execution_count": 75,
   "metadata": {},
   "outputs": [],
   "source": [
    "y_hat_uniform = x1 @ Ex1_results[0]"
   ]
  },
  {
   "cell_type": "code",
   "execution_count": 76,
   "metadata": {},
   "outputs": [
    {
     "name": "stdout",
     "output_type": "stream",
     "text": [
      "The error norm for the uniform distribution is :  7041.236071821755\n"
     ]
    }
   ],
   "source": [
    "print(\"The error norm for the uniform distribution is : \", norm_error(y_hat_uniform,y1_uni))"
   ]
  },
  {
   "cell_type": "markdown",
   "metadata": {},
   "source": [
    "*__Normal distribution__*"
   ]
  },
  {
   "cell_type": "code",
   "execution_count": 77,
   "metadata": {},
   "outputs": [
    {
     "data": {
      "text/plain": [
       "array([0.77857531, 0.99885259])"
      ]
     },
     "execution_count": 77,
     "metadata": {},
     "output_type": "execute_result"
    }
   ],
   "source": [
    "generalized_inverse(x1, y1_nor)"
   ]
  },
  {
   "cell_type": "code",
   "execution_count": 78,
   "metadata": {},
   "outputs": [
    {
     "name": "stdout",
     "output_type": "stream",
     "text": [
      "Linear cost function minimum:  56.32803328965713 , when θ =  [1.14248649 0.99776039] in 38332 iterations\n",
      "Execution time: 327.86821579933167 seconds\n"
     ]
    }
   ],
   "source": [
    "start_time = time.time()\n",
    "\n",
    "theta0 = np.array([3,3])\n",
    "Ex1_nor_result = linear_gradient_descent(linear_cost,x1,y1_nor,theta0,1e-7)\n",
    "\n",
    "print(\"Linear cost function minimum: \", linear_cost(x1,y1_nor,Ex1_nor_result[0]), \", when θ = \", Ex1_nor_result[0], \"in\", Ex1_nor_result[1], \"iterations\")\n",
    "print(\"Execution time: %s seconds\" % (time.time() - start_time))"
   ]
  },
  {
   "cell_type": "code",
   "execution_count": 79,
   "metadata": {},
   "outputs": [
    {
     "data": {
      "text/plain": [
       "array([1.14248649, 0.99776039])"
      ]
     },
     "execution_count": 79,
     "metadata": {},
     "output_type": "execute_result"
    }
   ],
   "source": [
    "Ex1_nor_result[0]"
   ]
  },
  {
   "cell_type": "code",
   "execution_count": 80,
   "metadata": {},
   "outputs": [],
   "source": [
    "y_hat_normal = x1 @ Ex1_nor_result[0]"
   ]
  },
  {
   "cell_type": "code",
   "execution_count": 81,
   "metadata": {},
   "outputs": [
    {
     "name": "stdout",
     "output_type": "stream",
     "text": [
      "The error norm for the normal distribution is :  4317.430311353488\n"
     ]
    }
   ],
   "source": [
    "print(\"The error norm for the normal distribution is : \", norm_error(y_hat_normal,y1_nor))"
   ]
  },
  {
   "cell_type": "markdown",
   "metadata": {},
   "source": [
    "__Example 2__\n",
    "\n",
    "Previously, we use the normal noise. Here, we also calculate the uniform noise."
   ]
  },
  {
   "cell_type": "markdown",
   "metadata": {},
   "source": [
    "*__Uniform distribution__*"
   ]
  },
  {
   "cell_type": "code",
   "execution_count": 82,
   "metadata": {},
   "outputs": [
    {
     "data": {
      "text/plain": [
       "array([ 6.11085004,  0.99893174, -0.08308856])"
      ]
     },
     "execution_count": 82,
     "metadata": {},
     "output_type": "execute_result"
    }
   ],
   "source": [
    "generalized_inverse(x2, y2_uni)"
   ]
  },
  {
   "cell_type": "code",
   "execution_count": 83,
   "metadata": {},
   "outputs": [
    {
     "name": "stdout",
     "output_type": "stream",
     "text": [
      "Linear cost function minimum:  139.9236415985326 , when θ =  [ 5.52660297  1.00007974 -0.03214646] in 62827 iterations\n",
      "Execution time: 802.836098909378 seconds\n"
     ]
    }
   ],
   "source": [
    "start_time = time.time()\n",
    "\n",
    "theta0 = np.array([2,2,2])\n",
    "Ex2_uni_result = linear_gradient_descent(linear_cost,x2,y2_uni,theta0,1e-7)\n",
    "\n",
    "print(\"Linear cost function minimum: \", linear_cost(x2,y2_uni,Ex2_uni_result[0]), \", when θ = \", Ex2_uni_result[0], \"in\", Ex2_uni_result[1], \"iterations\")\n",
    "print(\"Execution time: %s seconds\" % (time.time() - start_time))"
   ]
  },
  {
   "cell_type": "code",
   "execution_count": 86,
   "metadata": {},
   "outputs": [],
   "source": [
    "y_hat_uniform2 = x2 @ Ex2_uni_result[0]"
   ]
  },
  {
   "cell_type": "code",
   "execution_count": 88,
   "metadata": {},
   "outputs": [
    {
     "name": "stdout",
     "output_type": "stream",
     "text": [
      "The error norm for the uniform distribution is :  7139.971524066167\n"
     ]
    }
   ],
   "source": [
    "print(\"The error norm for the uniform distribution is : \", norm_error(y_hat_uniform2,y2_uni))"
   ]
  },
  {
   "cell_type": "markdown",
   "metadata": {},
   "source": [
    "*__Normal distribution__*"
   ]
  },
  {
   "cell_type": "code",
   "execution_count": 89,
   "metadata": {},
   "outputs": [
    {
     "data": {
      "text/plain": [
       "array([5.89294861, 0.99503994, 0.11256769])"
      ]
     },
     "execution_count": 89,
     "metadata": {},
     "output_type": "execute_result"
    }
   ],
   "source": [
    "Ex2_results[0]"
   ]
  },
  {
   "cell_type": "code",
   "execution_count": 90,
   "metadata": {},
   "outputs": [],
   "source": [
    "y_hat_normal2 = x2 @ Ex2_results[0]"
   ]
  },
  {
   "cell_type": "code",
   "execution_count": 91,
   "metadata": {},
   "outputs": [
    {
     "name": "stdout",
     "output_type": "stream",
     "text": [
      "The error norm for the normal distribution is :  4039.8819787334332\n"
     ]
    }
   ],
   "source": [
    "print(\"The error norm for the normal distribution is : \", norm_error(y_hat_normal2,y2_nor))"
   ]
  },
  {
   "cell_type": "markdown",
   "metadata": {},
   "source": [
    "__Example 3__\n",
    "Previously, we use the normal noise. Here, we also calculate the uniform noise."
   ]
  },
  {
   "cell_type": "markdown",
   "metadata": {},
   "source": [
    "*__Uniform distribution__*"
   ]
  },
  {
   "cell_type": "code",
   "execution_count": 92,
   "metadata": {},
   "outputs": [
    {
     "data": {
      "text/plain": [
       "array([-2.47882943,  1.36142807,  0.9806047 ])"
      ]
     },
     "execution_count": 92,
     "metadata": {},
     "output_type": "execute_result"
    }
   ],
   "source": [
    "generalized_inverse(x3, y3_uni)"
   ]
  },
  {
   "cell_type": "code",
   "execution_count": 93,
   "metadata": {},
   "outputs": [
    {
     "name": "stdout",
     "output_type": "stream",
     "text": [
      "Linear cost function minimum:  135.928416523858 , when θ =  [-2.28969871  1.29888809  0.98484611] in 1916 iterations\n",
      "Execution time: 18.359938621520996 seconds\n"
     ]
    }
   ],
   "source": [
    "start_time = time.time()\n",
    "\n",
    "theta0 = np.array([7,7,7])\n",
    "Ex3_uni_result = linear_gradient_descent(linear_cost,x3,y3_uni,theta0,1e-7)\n",
    "\n",
    "print(\"Linear cost function minimum: \", linear_cost(x3,y3_uni,Ex3_uni_result[0]), \", when θ = \", Ex3_uni_result[0], \"in\", Ex3_uni_result[1], \"iterations\")\n",
    "print(\"Execution time: %s seconds\" % (time.time() - start_time))"
   ]
  },
  {
   "cell_type": "code",
   "execution_count": 96,
   "metadata": {},
   "outputs": [],
   "source": [
    "y_hat_uniform3 = x3 @ Ex3_uni_result[0]"
   ]
  },
  {
   "cell_type": "code",
   "execution_count": 97,
   "metadata": {},
   "outputs": [
    {
     "name": "stdout",
     "output_type": "stream",
     "text": [
      "The error norm for the uniform distribution is :  7039.007888254393\n"
     ]
    }
   ],
   "source": [
    "print(\"The error norm for the uniform distribution is : \", norm_error(y_hat_uniform3,y3_uni))"
   ]
  },
  {
   "cell_type": "markdown",
   "metadata": {},
   "source": [
    "*__Normal distribution__*"
   ]
  },
  {
   "cell_type": "code",
   "execution_count": 98,
   "metadata": {},
   "outputs": [
    {
     "data": {
      "text/plain": [
       "array([1.13369471, 0.7829617 , 1.01371879])"
      ]
     },
     "execution_count": 98,
     "metadata": {},
     "output_type": "execute_result"
    }
   ],
   "source": [
    "generalized_inverse(x3, y3_nor)"
   ]
  },
  {
   "cell_type": "code",
   "execution_count": 99,
   "metadata": {},
   "outputs": [
    {
     "data": {
      "text/plain": [
       "array([1.32152001, 0.72085305, 1.01792683])"
      ]
     },
     "execution_count": 99,
     "metadata": {},
     "output_type": "execute_result"
    }
   ],
   "source": [
    "Ex3_results[0]"
   ]
  },
  {
   "cell_type": "code",
   "execution_count": 100,
   "metadata": {},
   "outputs": [],
   "source": [
    "y_hat_normal3 = x3 @ Ex3_results[0]"
   ]
  },
  {
   "cell_type": "code",
   "execution_count": 101,
   "metadata": {},
   "outputs": [
    {
     "name": "stdout",
     "output_type": "stream",
     "text": [
      "The error norm for the normal distribution is :  4315.386912655018\n"
     ]
    }
   ],
   "source": [
    "print(\"The error norm for the normal distribution is : \", norm_error(y_hat_normal3,y3_nor))"
   ]
  },
  {
   "cell_type": "markdown",
   "metadata": {},
   "source": [
    "__Example 4__\n",
    "\n",
    "Previously, we use the normal noise. Here, we also calculate the uniform noise."
   ]
  },
  {
   "cell_type": "markdown",
   "metadata": {},
   "source": [
    "*__Uniform distribution__*"
   ]
  },
  {
   "cell_type": "code",
   "execution_count": 107,
   "metadata": {},
   "outputs": [
    {
     "data": {
      "text/plain": [
       "array([ 1.87655425e+01,  1.00142891e+00, -8.49642705e-03])"
      ]
     },
     "execution_count": 107,
     "metadata": {},
     "output_type": "execute_result"
    }
   ],
   "source": [
    "generalized_inverse(x4, y4_uni)"
   ]
  },
  {
   "cell_type": "code",
   "execution_count": 108,
   "metadata": {},
   "outputs": [
    {
     "name": "stdout",
     "output_type": "stream",
     "text": [
      "Linear cost function minimum:  359.02927875857927 , when θ =  [ 1.83428094e+01  1.00249981e+00 -4.70214356e-03] in 92465 iterations\n",
      "Execution time: 1115.0273158550262 seconds\n"
     ]
    }
   ],
   "source": [
    "start_time = time.time()\n",
    "\n",
    "theta0 = np.array([5,5,5])\n",
    "Ex4_uni_result = linear_gradient_descent(linear_cost,x4,y4_uni,theta0,1e-7)\n",
    "\n",
    "print(\"Linear cost function minimum: \", linear_cost(x4,y4_uni,Ex4_uni_result[0]), \", when θ = \", Ex4_uni_result[0], \"in\", Ex4_uni_result[1], \"iterations\")\n",
    "print(\"Execution time: %s seconds\" % (time.time() - start_time))"
   ]
  },
  {
   "cell_type": "code",
   "execution_count": 109,
   "metadata": {},
   "outputs": [],
   "source": [
    "y_hat_uniform4 = x4 @ Ex4_uni_result[0]"
   ]
  },
  {
   "cell_type": "code",
   "execution_count": 110,
   "metadata": {},
   "outputs": [
    {
     "name": "stdout",
     "output_type": "stream",
     "text": [
      "The error norm for the uniform distribution is :  10916.589855546597\n"
     ]
    }
   ],
   "source": [
    "print(\"The error norm for the uniform distribution is : \", norm_error(y_hat_uniform4,y4_uni))"
   ]
  },
  {
   "cell_type": "markdown",
   "metadata": {},
   "source": [
    "*__Normal distribution__*"
   ]
  },
  {
   "cell_type": "code",
   "execution_count": 111,
   "metadata": {},
   "outputs": [
    {
     "data": {
      "text/plain": [
       "array([19.74141216,  0.99332467, -0.06167027])"
      ]
     },
     "execution_count": 111,
     "metadata": {},
     "output_type": "execute_result"
    }
   ],
   "source": [
    "generalized_inverse(x4, y4_nor)"
   ]
  },
  {
   "cell_type": "code",
   "execution_count": 112,
   "metadata": {},
   "outputs": [
    {
     "data": {
      "text/plain": [
       "array([19.31904309,  0.99439465, -0.05787925])"
      ]
     },
     "execution_count": 112,
     "metadata": {},
     "output_type": "execute_result"
    }
   ],
   "source": [
    "Ex4_results[0]"
   ]
  },
  {
   "cell_type": "code",
   "execution_count": 113,
   "metadata": {},
   "outputs": [],
   "source": [
    "y_hat_normal4 = x4 @ Ex4_results[0]"
   ]
  },
  {
   "cell_type": "code",
   "execution_count": 114,
   "metadata": {},
   "outputs": [
    {
     "name": "stdout",
     "output_type": "stream",
     "text": [
      "The error norm for the normal distribution is :  8568.315466393502\n"
     ]
    }
   ],
   "source": [
    "print(\"The error norm for the normal distribution is : \", norm_error(y_hat_normal4,y4_nor))"
   ]
  },
  {
   "cell_type": "code",
   "execution_count": null,
   "metadata": {},
   "outputs": [],
   "source": []
  },
  {
   "cell_type": "markdown",
   "metadata": {},
   "source": [
    "__Extra point__: compare uniform, standard normal distribution, and t distribution. We only use example 3 regression formula\n",
    "\n",
    "$$\n",
    "y = θ_0 + θ_1x_1 + θ_2x_1^2 + NormalNoise\n",
    "$$\n"
   ]
  },
  {
   "cell_type": "code",
   "execution_count": 115,
   "metadata": {},
   "outputs": [],
   "source": [
    "np.random.seed(90)\n",
    "x3_new, y3_uni_new, y3_nor_new, y3_t_new = CreateData3(400,-2,2,0,1,4)"
   ]
  },
  {
   "cell_type": "markdown",
   "metadata": {},
   "source": [
    "__Uniform distribution__"
   ]
  },
  {
   "cell_type": "code",
   "execution_count": 116,
   "metadata": {},
   "outputs": [
    {
     "data": {
      "text/plain": [
       "array([-0.2593977 ,  1.04490667,  0.99941612])"
      ]
     },
     "execution_count": 116,
     "metadata": {},
     "output_type": "execute_result"
    }
   ],
   "source": [
    "generalized_inverse(x3_new, y3_uni_new)"
   ]
  },
  {
   "cell_type": "code",
   "execution_count": 117,
   "metadata": {},
   "outputs": [
    {
     "name": "stdout",
     "output_type": "stream",
     "text": [
      "Linear cost function minimum:  0.615539695617249 , when θ =  [-0.13908796  0.99436568  1.00373415] in 1180 iterations\n",
      "Execution time: 9.505270004272461 seconds\n"
     ]
    }
   ],
   "source": [
    "start_time = time.time()\n",
    "\n",
    "theta0 = np.array([4,4,4])\n",
    "Extra_uni = linear_gradient_descent(linear_cost,x3_new,y3_uni_new,theta0,1e-7)\n",
    "\n",
    "print(\"Linear cost function minimum: \", linear_cost(x3_new,y3_uni_new,Extra_uni[0]), \", when θ = \", Extra_uni[0], \"in\", Extra_uni[1], \"iterations\")\n",
    "print(\"Execution time: %s seconds\" % (time.time() - start_time))"
   ]
  },
  {
   "cell_type": "code",
   "execution_count": 118,
   "metadata": {},
   "outputs": [],
   "source": [
    "y_hat_uniform_new = x3_new @ Extra_uni[0]"
   ]
  },
  {
   "cell_type": "code",
   "execution_count": 119,
   "metadata": {},
   "outputs": [
    {
     "name": "stdout",
     "output_type": "stream",
     "text": [
      "The error norm for the uniform distribution is :  383.96573251788493\n"
     ]
    }
   ],
   "source": [
    "print(\"The error norm for the uniform distribution is : \", norm_error(y_hat_uniform_new,y3_uni_new))"
   ]
  },
  {
   "cell_type": "markdown",
   "metadata": {},
   "source": [
    "__Normal distribution__"
   ]
  },
  {
   "cell_type": "code",
   "execution_count": 120,
   "metadata": {},
   "outputs": [
    {
     "data": {
      "text/plain": [
       "array([-0.05625889,  1.04754293,  0.99512461])"
      ]
     },
     "execution_count": 120,
     "metadata": {},
     "output_type": "execute_result"
    }
   ],
   "source": [
    "generalized_inverse(x3_new, y3_nor_new)"
   ]
  },
  {
   "cell_type": "code",
   "execution_count": 121,
   "metadata": {},
   "outputs": [
    {
     "name": "stdout",
     "output_type": "stream",
     "text": [
      "Linear cost function minimum:  0.5401192121257384 , when θ =  [0.05719172 0.99988302 0.99919153] in 1203 iterations\n",
      "Execution time: 9.643182277679443 seconds\n"
     ]
    }
   ],
   "source": [
    "start_time = time.time()\n",
    "\n",
    "theta0 = np.array([4,4,4])\n",
    "Extra_nor = linear_gradient_descent(linear_cost,x3_new,y3_nor_new,theta0,1e-7)\n",
    "\n",
    "print(\"Linear cost function minimum: \", linear_cost(x3_new,y3_nor_new,Extra_nor[0]), \", when θ = \", Extra_nor[0], \"in\", Extra_nor[1], \"iterations\")\n",
    "print(\"Execution time: %s seconds\" % (time.time() - start_time))"
   ]
  },
  {
   "cell_type": "code",
   "execution_count": 122,
   "metadata": {},
   "outputs": [],
   "source": [
    "y_hat_normal_new = x3_new @ Extra_nor[0]"
   ]
  },
  {
   "cell_type": "code",
   "execution_count": 123,
   "metadata": {},
   "outputs": [
    {
     "name": "stdout",
     "output_type": "stream",
     "text": [
      "The error norm for the normal distribution is :  331.1953240358748\n"
     ]
    }
   ],
   "source": [
    "print(\"The error norm for the normal distribution is : \", norm_error(y_hat_normal_new,y3_nor_new))"
   ]
  },
  {
   "cell_type": "markdown",
   "metadata": {},
   "source": [
    "*__t distribution__*  with df = 4"
   ]
  },
  {
   "cell_type": "code",
   "execution_count": 138,
   "metadata": {},
   "outputs": [
    {
     "data": {
      "text/plain": [
       "array([-0.33232176,  1.17634953,  0.98451532])"
      ]
     },
     "execution_count": 138,
     "metadata": {},
     "output_type": "execute_result"
    }
   ],
   "source": [
    "generalized_inverse(x3_new, y3_t_new)"
   ]
  },
  {
   "cell_type": "code",
   "execution_count": 125,
   "metadata": {},
   "outputs": [
    {
     "name": "stdout",
     "output_type": "stream",
     "text": [
      "Linear cost function minimum:  1.000349718457809 , when θ =  [-0.2121408   1.12586265  0.98882873] in 1199 iterations\n",
      "Execution time: 9.69104790687561 seconds\n"
     ]
    }
   ],
   "source": [
    "start_time = time.time()\n",
    "\n",
    "theta0 = np.array([4,4,4])\n",
    "Extra_t = linear_gradient_descent(linear_cost,x3_new,y3_t_new,theta0,1e-7)\n",
    "\n",
    "print(\"Linear cost function minimum: \", linear_cost(x3_new,y3_t_new,Extra_t[0]), \", when θ = \", Extra_t[0], \"in\", Extra_t[1], \"iterations\")\n",
    "print(\"Execution time: %s seconds\" % (time.time() - start_time))"
   ]
  },
  {
   "cell_type": "code",
   "execution_count": 139,
   "metadata": {},
   "outputs": [],
   "source": [
    "y_hat_t_new = x3_new @ Extra_t[0]"
   ]
  },
  {
   "cell_type": "code",
   "execution_count": 146,
   "metadata": {},
   "outputs": [
    {
     "name": "stdout",
     "output_type": "stream",
     "text": [
      "The error norm for the t distribution is :  418.800846596549\n"
     ]
    }
   ],
   "source": [
    "print(\"The error norm for the t distribution is : \", norm_error(y_hat_t_new,y3_t_new))"
   ]
  },
  {
   "cell_type": "markdown",
   "metadata": {},
   "source": [
    "The normal distribution still has the minimum error norm."
   ]
  },
  {
   "cell_type": "markdown",
   "metadata": {},
   "source": [
    "__Q2 Conclusion__\n",
    "\n",
    "If the error follows the normal distribution, then we have the minimum error norm, implying that the regression line contains a higher accuracy."
   ]
  },
  {
   "cell_type": "code",
   "execution_count": null,
   "metadata": {},
   "outputs": [],
   "source": []
  },
  {
   "cell_type": "markdown",
   "metadata": {},
   "source": [
    "### Logistic Regression"
   ]
  },
  {
   "cell_type": "code",
   "execution_count": 434,
   "metadata": {},
   "outputs": [
    {
     "data": {
      "text/html": [
       "<div>\n",
       "<style scoped>\n",
       "    .dataframe tbody tr th:only-of-type {\n",
       "        vertical-align: middle;\n",
       "    }\n",
       "\n",
       "    .dataframe tbody tr th {\n",
       "        vertical-align: top;\n",
       "    }\n",
       "\n",
       "    .dataframe thead th {\n",
       "        text-align: right;\n",
       "    }\n",
       "</style>\n",
       "<table border=\"1\" class=\"dataframe\">\n",
       "  <thead>\n",
       "    <tr style=\"text-align: right;\">\n",
       "      <th></th>\n",
       "      <th>age</th>\n",
       "      <th>sex</th>\n",
       "      <th>cp</th>\n",
       "      <th>trestbps</th>\n",
       "      <th>chol</th>\n",
       "      <th>fbs</th>\n",
       "      <th>restecg</th>\n",
       "      <th>thalach</th>\n",
       "      <th>exang</th>\n",
       "      <th>oldpeak</th>\n",
       "      <th>slope</th>\n",
       "      <th>ca</th>\n",
       "      <th>thal</th>\n",
       "      <th>target</th>\n",
       "    </tr>\n",
       "  </thead>\n",
       "  <tbody>\n",
       "    <tr>\n",
       "      <td>0</td>\n",
       "      <td>63</td>\n",
       "      <td>1</td>\n",
       "      <td>3</td>\n",
       "      <td>145</td>\n",
       "      <td>233</td>\n",
       "      <td>1</td>\n",
       "      <td>0</td>\n",
       "      <td>150</td>\n",
       "      <td>0</td>\n",
       "      <td>2.3</td>\n",
       "      <td>0</td>\n",
       "      <td>0</td>\n",
       "      <td>1</td>\n",
       "      <td>1</td>\n",
       "    </tr>\n",
       "    <tr>\n",
       "      <td>1</td>\n",
       "      <td>37</td>\n",
       "      <td>1</td>\n",
       "      <td>2</td>\n",
       "      <td>130</td>\n",
       "      <td>250</td>\n",
       "      <td>0</td>\n",
       "      <td>1</td>\n",
       "      <td>187</td>\n",
       "      <td>0</td>\n",
       "      <td>3.5</td>\n",
       "      <td>0</td>\n",
       "      <td>0</td>\n",
       "      <td>2</td>\n",
       "      <td>1</td>\n",
       "    </tr>\n",
       "    <tr>\n",
       "      <td>2</td>\n",
       "      <td>41</td>\n",
       "      <td>0</td>\n",
       "      <td>1</td>\n",
       "      <td>130</td>\n",
       "      <td>204</td>\n",
       "      <td>0</td>\n",
       "      <td>0</td>\n",
       "      <td>172</td>\n",
       "      <td>0</td>\n",
       "      <td>1.4</td>\n",
       "      <td>2</td>\n",
       "      <td>0</td>\n",
       "      <td>2</td>\n",
       "      <td>1</td>\n",
       "    </tr>\n",
       "    <tr>\n",
       "      <td>3</td>\n",
       "      <td>56</td>\n",
       "      <td>1</td>\n",
       "      <td>1</td>\n",
       "      <td>120</td>\n",
       "      <td>236</td>\n",
       "      <td>0</td>\n",
       "      <td>1</td>\n",
       "      <td>178</td>\n",
       "      <td>0</td>\n",
       "      <td>0.8</td>\n",
       "      <td>2</td>\n",
       "      <td>0</td>\n",
       "      <td>2</td>\n",
       "      <td>1</td>\n",
       "    </tr>\n",
       "    <tr>\n",
       "      <td>4</td>\n",
       "      <td>57</td>\n",
       "      <td>0</td>\n",
       "      <td>0</td>\n",
       "      <td>120</td>\n",
       "      <td>354</td>\n",
       "      <td>0</td>\n",
       "      <td>1</td>\n",
       "      <td>163</td>\n",
       "      <td>1</td>\n",
       "      <td>0.6</td>\n",
       "      <td>2</td>\n",
       "      <td>0</td>\n",
       "      <td>2</td>\n",
       "      <td>1</td>\n",
       "    </tr>\n",
       "  </tbody>\n",
       "</table>\n",
       "</div>"
      ],
      "text/plain": [
       "   age  sex  cp  trestbps  chol  fbs  restecg  thalach  exang  oldpeak  slope  \\\n",
       "0   63    1   3       145   233    1        0      150      0      2.3      0   \n",
       "1   37    1   2       130   250    0        1      187      0      3.5      0   \n",
       "2   41    0   1       130   204    0        0      172      0      1.4      2   \n",
       "3   56    1   1       120   236    0        1      178      0      0.8      2   \n",
       "4   57    0   0       120   354    0        1      163      1      0.6      2   \n",
       "\n",
       "   ca  thal  target  \n",
       "0   0     1       1  \n",
       "1   0     2       1  \n",
       "2   0     2       1  \n",
       "3   0     2       1  \n",
       "4   0     2       1  "
      ]
     },
     "execution_count": 434,
     "metadata": {},
     "output_type": "execute_result"
    }
   ],
   "source": [
    "# we try a real dataset on kaggle: https://www.kaggle.com/nareshbhat/health-care-data-set-on-heart-attack-possibility\n",
    "heart = pd.read_csv(\"logistic_heart_disease.csv\")\n",
    "heart.head()"
   ]
  },
  {
   "cell_type": "code",
   "execution_count": 456,
   "metadata": {},
   "outputs": [],
   "source": [
    "# we just choose several variables as predictors, and \"target\" as our response variable\n",
    "X = heart[['age','trestbps','chol','thalach','oldpeak']]\n",
    "Y = heart['target']\n",
    "x0 = np.ones(303)\n",
    "heart[\"x0\"] = x0\n",
    "x_data = np.array(heart[['x0','age','trestbps','chol','thalach','oldpeak']])\n",
    "y_data = np.array(heart['target'])"
   ]
  },
  {
   "cell_type": "code",
   "execution_count": 457,
   "metadata": {},
   "outputs": [
    {
     "data": {
      "text/plain": [
       "array([ 0.06419043, -0.00046139, -0.00175788, -0.00054055,  0.00673133,\n",
       "       -0.13214493])"
      ]
     },
     "execution_count": 457,
     "metadata": {},
     "output_type": "execute_result"
    }
   ],
   "source": [
    "# first we use generalized inverse method to check the theta values\n",
    "generalized_inverse(x_data, y_data)"
   ]
  },
  {
   "cell_type": "markdown",
   "metadata": {},
   "source": [
    "For the logistic regression, we apply the same gradient descent algorithm in linear regression, except a new loss function that need to be defined."
   ]
  },
  {
   "cell_type": "code",
   "execution_count": 458,
   "metadata": {},
   "outputs": [],
   "source": [
    "# wrtite the sigmoid function, we can use this to calcualte yi later\n",
    "def Sigmoid(x):\n",
    "    return 1/(1+np.exp(-x))"
   ]
  },
  {
   "cell_type": "code",
   "execution_count": 459,
   "metadata": {},
   "outputs": [],
   "source": [
    "# write the cost function\n",
    "def logistic_cost(x,y,theta):\n",
    "    return np.sum(np.log(1+np.exp(x@theta)) - np.multiply(y, x@theta)) / len(x)"
   ]
  },
  {
   "cell_type": "code",
   "execution_count": 468,
   "metadata": {},
   "outputs": [
    {
     "name": "stderr",
     "output_type": "stream",
     "text": [
      "/Users/jingchen/opt/anaconda3/lib/python3.7/site-packages/ipykernel_launcher.py:3: RuntimeWarning: overflow encountered in exp\n",
      "  This is separate from the ipykernel package so we can avoid doing imports until\n"
     ]
    },
    {
     "name": "stdout",
     "output_type": "stream",
     "text": [
      "Linear cost function minimum:  0.5366693337161155 , when θ =  [-1.97192282  0.00210818 -0.01000777 -0.00308481  0.03403127 -0.97177001] in 20199 iterations\n",
      "Execution time: 685.7848329544067 seconds\n"
     ]
    }
   ],
   "source": [
    "start_time = time.time()\n",
    "\n",
    "theta0 = np.array([-2,-2,-2,-2,-2,-2])\n",
    "logistic_res = linear_gradient_descent(logistic_cost,x_data,y_data,theta0,1e-7)\n",
    "\n",
    "print(\"Linear cost function minimum: \", logistic_cost(x_data,y_data,logistic_res[0]), \", when θ = \", logistic_res[0], \"in\", logistic_res[1], \"iterations\")\n",
    "print(\"Execution time: %s seconds\" % (time.time() - start_time))"
   ]
  },
  {
   "cell_type": "code",
   "execution_count": 472,
   "metadata": {},
   "outputs": [
    {
     "data": {
      "text/plain": [
       "0.6445111681482327"
      ]
     },
     "execution_count": 472,
     "metadata": {},
     "output_type": "execute_result"
    }
   ],
   "source": [
    "logistic_cost(x_data,y_data,generalized_inverse(x_data, y_data))"
   ]
  },
  {
   "cell_type": "code",
   "execution_count": 488,
   "metadata": {},
   "outputs": [
    {
     "data": {
      "text/plain": [
       "0.5366693337161155"
      ]
     },
     "execution_count": 488,
     "metadata": {},
     "output_type": "execute_result"
    }
   ],
   "source": [
    "logistic_cost(x_data,y_data,logistic_res[0])"
   ]
  },
  {
   "cell_type": "code",
   "execution_count": null,
   "metadata": {},
   "outputs": [],
   "source": [
    "# the value for the cost function of the gradeint descent algorithm is lower than the value in generalized inverse method."
   ]
  },
  {
   "cell_type": "code",
   "execution_count": 474,
   "metadata": {},
   "outputs": [],
   "source": [
    "# predict the yi values\n",
    "log_pred = Sigmoid(x_data@logistic_res[0])"
   ]
  },
  {
   "cell_type": "code",
   "execution_count": 476,
   "metadata": {},
   "outputs": [
    {
     "data": {
      "text/plain": [
       "array([0, 0, 1, 1, 1, 1, 0, 1, 1, 1])"
      ]
     },
     "execution_count": 476,
     "metadata": {},
     "output_type": "execute_result"
    }
   ],
   "source": [
    "log_pred_cat = np.array([1 if el > 0.5 else 0 for el in log_pred])\n",
    "log_pred_cat[:10]"
   ]
  },
  {
   "cell_type": "code",
   "execution_count": 477,
   "metadata": {},
   "outputs": [],
   "source": [
    "from sklearn.metrics import confusion_matrix\n",
    "# Ci,j number of observations known to be in group i and predicted to be in group j\n",
    "table = confusion_matrix(y_data,log_pred_cat)"
   ]
  },
  {
   "cell_type": "code",
   "execution_count": 481,
   "metadata": {},
   "outputs": [
    {
     "name": "stdout",
     "output_type": "stream",
     "text": [
      "     No  Yes\n",
      "No   91   47\n",
      "Yes  31  134\n"
     ]
    }
   ],
   "source": [
    "confusion_df = pd.DataFrame(table, ['No','Yes'], ['No','Yes'])\n",
    "print(confusion_df)"
   ]
  },
  {
   "cell_type": "code",
   "execution_count": 487,
   "metadata": {},
   "outputs": [
    {
     "name": "stdout",
     "output_type": "stream",
     "text": [
      "Our predictive model made 0.7425742574257426 % correct predictions on the heart dataset.\n"
     ]
    }
   ],
   "source": [
    "print('Our predictive model made',(91+134)/(91+134+31+47),'% correct predictions on the heart dataset.')"
   ]
  },
  {
   "cell_type": "code",
   "execution_count": null,
   "metadata": {},
   "outputs": [],
   "source": []
  },
  {
   "cell_type": "code",
   "execution_count": null,
   "metadata": {},
   "outputs": [],
   "source": []
  },
  {
   "cell_type": "code",
   "execution_count": null,
   "metadata": {},
   "outputs": [],
   "source": []
  },
  {
   "cell_type": "code",
   "execution_count": null,
   "metadata": {},
   "outputs": [],
   "source": []
  },
  {
   "cell_type": "code",
   "execution_count": null,
   "metadata": {},
   "outputs": [],
   "source": []
  },
  {
   "cell_type": "code",
   "execution_count": null,
   "metadata": {},
   "outputs": [],
   "source": []
  },
  {
   "cell_type": "code",
   "execution_count": null,
   "metadata": {},
   "outputs": [],
   "source": []
  },
  {
   "cell_type": "code",
   "execution_count": null,
   "metadata": {},
   "outputs": [],
   "source": []
  }
 ],
 "metadata": {
  "kernelspec": {
   "display_name": "Python 3",
   "language": "python",
   "name": "python3"
  },
  "language_info": {
   "codemirror_mode": {
    "name": "ipython",
    "version": 3
   },
   "file_extension": ".py",
   "mimetype": "text/x-python",
   "name": "python",
   "nbconvert_exporter": "python",
   "pygments_lexer": "ipython3",
   "version": "3.7.4"
  }
 },
 "nbformat": 4,
 "nbformat_minor": 2
}
